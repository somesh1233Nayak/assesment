{
 "cells": [
  {
   "cell_type": "code",
   "execution_count": 1,
   "id": "06a8e765-629e-436f-b8da-cf97d1c7820e",
   "metadata": {},
   "outputs": [],
   "source": [
    "import numpy as np\n",
    "import pandas as pd\n",
    "import pyarrow.parquet as pq\n",
    "import os\n",
    "import argparse"
   ]
  },
  {
   "cell_type": "code",
   "execution_count": 2,
   "id": "b626440c-afef-4054-ab1f-f426148f8604",
   "metadata": {},
   "outputs": [],
   "source": [
    "dataset_1 = pd.read_csv('2000_0.csv')"
   ]
  },
  {
   "cell_type": "code",
   "execution_count": 3,
   "id": "05b832a3-ebfe-478d-9332-a7176ff5698a",
   "metadata": {},
   "outputs": [
    {
     "data": {
      "text/plain": [
       "(4372, 3)"
      ]
     },
     "execution_count": 3,
     "metadata": {},
     "output_type": "execute_result"
    }
   ],
   "source": [
    "dataset_1.shape"
   ]
  },
  {
   "cell_type": "code",
   "execution_count": 4,
   "id": "35b163ec-d0b5-4516-a2b7-bedaf20b6fb5",
   "metadata": {},
   "outputs": [
    {
     "data": {
      "text/plain": [
       "<bound method NDFrame.head of       latitude  longitude             timestamp\n",
       "0     41.51166  -74.08417  2023-12-11T10:50:09Z\n",
       "1     41.51176  -74.08371  2023-12-11T10:50:11Z\n",
       "2     41.51176  -74.08371  2023-12-11T10:50:11Z\n",
       "3     41.51088  -74.08337  2023-12-11T10:50:17Z\n",
       "4     41.51077  -74.08338  2023-12-11T10:50:18Z\n",
       "...        ...        ...                   ...\n",
       "4367  40.69711  -74.19120  2023-12-11T13:58:38Z\n",
       "4368  40.69711  -74.19120  2023-12-11T13:58:38Z\n",
       "4369  40.69689  -74.19133  2023-12-11T13:58:40Z\n",
       "4370  40.69672  -74.19143  2023-12-11T13:58:41Z\n",
       "4371  40.69663  -74.19143  2023-12-11T13:58:42Z\n",
       "\n",
       "[4372 rows x 3 columns]>"
      ]
     },
     "execution_count": 4,
     "metadata": {},
     "output_type": "execute_result"
    }
   ],
   "source": [
    "dataset_1.head"
   ]
  },
  {
   "cell_type": "code",
   "execution_count": 5,
   "id": "1da98c99-d388-4d8f-87d4-e87bb9b162c3",
   "metadata": {},
   "outputs": [
    {
     "data": {
      "text/plain": [
       "pandas.core.frame.DataFrame"
      ]
     },
     "execution_count": 5,
     "metadata": {},
     "output_type": "execute_result"
    }
   ],
   "source": [
    "type(dataset_1)"
   ]
  },
  {
   "cell_type": "code",
   "execution_count": 10,
   "id": "730ecfd4-03a2-4cb3-80f1-12ebea925e10",
   "metadata": {},
   "outputs": [],
   "source": [
    "dataset_2 = pd.read_csv('2000_1.csv')"
   ]
  },
  {
   "cell_type": "code",
   "execution_count": 11,
   "id": "5327e14c-31c7-453c-9ea2-8581fe473b46",
   "metadata": {},
   "outputs": [
    {
     "data": {
      "text/plain": [
       "(2393, 3)"
      ]
     },
     "execution_count": 11,
     "metadata": {},
     "output_type": "execute_result"
    }
   ],
   "source": [
    "dataset_2.shape"
   ]
  },
  {
   "cell_type": "code",
   "execution_count": 12,
   "id": "cecf9fe8-cdf9-4727-9ed1-5a40731ef227",
   "metadata": {},
   "outputs": [
    {
     "data": {
      "text/plain": [
       "pandas.core.frame.DataFrame"
      ]
     },
     "execution_count": 12,
     "metadata": {},
     "output_type": "execute_result"
    }
   ],
   "source": [
    "type(dataset_2)"
   ]
  },
  {
   "cell_type": "code",
   "execution_count": 15,
   "id": "405339cd-453c-439b-9b71-e67e4d22b0e4",
   "metadata": {},
   "outputs": [
    {
     "data": {
      "text/plain": [
       "<bound method DataFrame.info of       latitude  longitude             timestamp\n",
       "0     41.51166  -74.08417  2023-12-11T10:50:09Z\n",
       "1     41.51176  -74.08371  2023-12-11T10:50:11Z\n",
       "2     41.51176  -74.08371  2023-12-11T10:50:11Z\n",
       "3     41.51088  -74.08337  2023-12-11T10:50:17Z\n",
       "4     41.51077  -74.08338  2023-12-11T10:50:18Z\n",
       "...        ...        ...                   ...\n",
       "4367  40.69711  -74.19120  2023-12-11T13:58:38Z\n",
       "4368  40.69711  -74.19120  2023-12-11T13:58:38Z\n",
       "4369  40.69689  -74.19133  2023-12-11T13:58:40Z\n",
       "4370  40.69672  -74.19143  2023-12-11T13:58:41Z\n",
       "4371  40.69663  -74.19143  2023-12-11T13:58:42Z\n",
       "\n",
       "[4372 rows x 3 columns]>"
      ]
     },
     "execution_count": 15,
     "metadata": {},
     "output_type": "execute_result"
    }
   ],
   "source": [
    "dataset_1.info"
   ]
  },
  {
   "cell_type": "code",
   "execution_count": 17,
   "id": "5aae38bd-ea3c-48d3-8292-37ff32e47da4",
   "metadata": {},
   "outputs": [
    {
     "data": {
      "text/plain": [
       "latitude     0\n",
       "longitude    0\n",
       "timestamp    0\n",
       "dtype: int64"
      ]
     },
     "execution_count": 17,
     "metadata": {},
     "output_type": "execute_result"
    }
   ],
   "source": [
    "pd.isnull (dataset_1).sum()"
   ]
  },
  {
   "cell_type": "code",
   "execution_count": 18,
   "id": "4b610c8f-11c3-4c64-8dda-4f4b2531f4e9",
   "metadata": {},
   "outputs": [
    {
     "data": {
      "text/plain": [
       "latitude     0\n",
       "longitude    0\n",
       "timestamp    0\n",
       "dtype: int64"
      ]
     },
     "execution_count": 18,
     "metadata": {},
     "output_type": "execute_result"
    }
   ],
   "source": [
    "pd.isnull(dataset_2).sum()"
   ]
  },
  {
   "cell_type": "code",
   "execution_count": null,
   "id": "4c25a76b-2884-4f4e-b9b8-561d76dddc75",
   "metadata": {},
   "outputs": [],
   "source": [
    "# Define the command-line arguments\n",
    "parser = argparse.ArgumentParser(description='Process GPS data from a Parquet file.')\n",
    "parser.add_argument('--to_process', type=str, required=True, help='Path to the Parquet file to be processed.')\n",
    "parser.add_argument('--output_dir', type=str, required=True, help='The folder to store the resulting CSV files.')\n",
    "args = parser.parse_args()"
   ]
  },
  {
   "cell_type": "code",
   "execution_count": null,
   "id": "9b2d7092-942b-4eda-b720-51800c204c97",
   "metadata": {},
   "outputs": [],
   "source": [
    "# Read the Parquet file into a pandas dataframe\n",
    "df = pq.read_table(args.to_process).to_pandas()"
   ]
  },
  {
   "cell_type": "code",
   "execution_count": null,
   "id": "998f7952-8563-4056-a9ec-f590df23cf46",
   "metadata": {},
   "outputs": [],
   "source": [
    "# Convert the timestamp column to datetime format\n",
    "df['timestamp'] = pd.to_datetime(df['timestamp'])"
   ]
  },
  {
   "cell_type": "code",
   "execution_count": null,
   "id": "33f9afb9-a55b-4603-9dae-bc698a3cc972",
   "metadata": {},
   "outputs": [],
   "source": [
    "# Sort the dataframe by unit and timestamp\n",
    "df = df.sort_values(by=['unit', 'timestamp'])"
   ]
  },
  {
   "cell_type": "code",
   "execution_count": null,
   "id": "f220c6a7-1661-4ad3-b328-f90a035621ac",
   "metadata": {},
   "outputs": [],
   "source": [
    "# Create a new column to indicate the start of a new trip\n",
    "df['new_trip'] = (df['timestamp'].diff() > pd.Timedelta(hours=7)) | (df['unit'] != df['unit'].shift())"
   ]
  },
  {
   "cell_type": "code",
   "execution_count": null,
   "id": "57a43130-8e4b-402b-85ea-ec9a463b8892",
   "metadata": {},
   "outputs": [],
   "source": [
    "# Assign a trip number to each row based on the new_trip column\n",
    "df['trip_number'] = df['new_trip'].cumsum() - 1"
   ]
  },
  {
   "cell_type": "code",
   "execution_count": null,
   "id": "1cd492e9-2415-4795-a426-fd74bf824cc5",
   "metadata": {},
   "outputs": [],
   "source": [
    "\n",
    "# Loop through the unique units and trips in the dataframe\n",
    "for unit, trip in df.groupby(['unit', 'trip_number']):\n",
    "    # Create a sub-dataframe for each unit and trip\n",
    "    sub_df = trip[['latitude', 'longitude', 'timestamp']]\n",
    "    # Create a file name based on the unit and trip number\n",
    "    file_name = f'{unit[0]}_{unit[1]}.csv'\n",
    "    # Save the sub-dataframe as a CSV file in the output directory\n",
    "    sub_df.to_csv(os.path.join(args.output_dir, file_name), index=False)"
   ]
  },
  {
   "cell_type": "code",
   "execution_count": null,
   "id": "d4402baf-2f04-438f-8380-9aae96845186",
   "metadata": {},
   "outputs": [],
   "source": []
  }
 ],
 "metadata": {
  "kernelspec": {
   "display_name": "Python 3 (ipykernel)",
   "language": "python",
   "name": "python3"
  },
  "language_info": {
   "codemirror_mode": {
    "name": "ipython",
    "version": 3
   },
   "file_extension": ".py",
   "mimetype": "text/x-python",
   "name": "python",
   "nbconvert_exporter": "python",
   "pygments_lexer": "ipython3",
   "version": "3.11.5"
  }
 },
 "nbformat": 4,
 "nbformat_minor": 5
}
